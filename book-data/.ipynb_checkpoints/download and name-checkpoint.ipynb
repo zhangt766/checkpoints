{
 "cells": [
  {
   "cell_type": "code",
   "execution_count": 2,
   "id": "e84a7ff4-76f8-4e1b-a165-ed0f67935556",
   "metadata": {},
   "outputs": [
    {
     "name": "stdout",
     "output_type": "stream",
     "text": [
      "Downloading from https://datarepo.eng.ucsd.edu/mcauley_group/gdrive/goodreads/byGenre/goodreads_reviews_young_adult.json.gz\n",
      "Dataset goodreads_reviews_young_adult.json.gz has been downloaded!\n"
     ]
    }
   ],
   "source": [
    "import requests\n",
    "import os\n",
    "\n",
    "# 定义文件名和类型\n",
    "file_name_type_mapping = {\n",
    "    'goodreads_reviews_young_adult.json.gz': 'byGenre'\n",
    "   \n",
    "}\n",
    "\n",
    "file_name_url_mapping = {}\n",
    "\n",
    "# 根据类型创建下载链接\n",
    "for fname in file_name_type_mapping:\n",
    "    ftype = file_name_type_mapping[fname]\n",
    "    if ftype == \"complete\":\n",
    "        url = 'https://datarepo.eng.ucsd.edu/mcauley_group/gdrive/goodreads/' + fname\n",
    "        file_name_url_mapping[fname] = url\n",
    "    elif ftype == \"byGenre\":\n",
    "        url = 'https://datarepo.eng.ucsd.edu/mcauley_group/gdrive/goodreads/byGenre/' + fname\n",
    "        file_name_url_mapping[fname] = url\n",
    "        \n",
    "def download_by_name(fname, local_filename):\n",
    "    if fname in file_name_url_mapping:\n",
    "        url = file_name_url_mapping[fname]\n",
    "        print(f\"Downloading from {url}\")  # 添加这行来打印URL\n",
    "        with requests.get(url, stream=True) as r:\n",
    "            r.raise_for_status()\n",
    "            with open(local_filename, 'wb') as f:\n",
    "                for chunk in r.iter_content(chunk_size=8192):\n",
    "                    f.write(chunk)\n",
    "        print('Dataset', fname, 'has been downloaded!')\n",
    "    else:\n",
    "        print('Dataset', fname, 'cannot be found!')    \n",
    "\n",
    "# 下载路径\n",
    "OUT_DIR = '/workspace/goodreads'\n",
    "if not os.path.exists(OUT_DIR):\n",
    "    os.makedirs(OUT_DIR)\n",
    "\n",
    "# 下载 goodreads_reviews_dedup.json.gz 文件\n",
    "output_path = os.path.join(OUT_DIR, 'goodreads_reviews_young_adult.json.gz')\n",
    "download_by_name('goodreads_reviews_young_adult.json.gz', output_path)"
   ]
  },
  {
   "cell_type": "code",
   "execution_count": null,
   "id": "d1278d80-352d-4ed5-b8fa-4f173d4a2e3d",
   "metadata": {},
   "outputs": [],
   "source": []
  }
 ],
 "metadata": {
  "kernelspec": {
   "display_name": "Python 3 (ipykernel)",
   "language": "python",
   "name": "python3"
  },
  "language_info": {
   "codemirror_mode": {
    "name": "ipython",
    "version": 3
   },
   "file_extension": ".py",
   "mimetype": "text/x-python",
   "name": "python",
   "nbconvert_exporter": "python",
   "pygments_lexer": "ipython3",
   "version": "3.10.14"
  }
 },
 "nbformat": 4,
 "nbformat_minor": 5
}
